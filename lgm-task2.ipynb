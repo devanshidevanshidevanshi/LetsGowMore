{
 "cells": [
  {
   "cell_type": "code",
   "execution_count": 1,
   "id": "3868c0c5",
   "metadata": {},
   "outputs": [],
   "source": [
    "import pandas as pd\n",
    "import numpy as np\n",
    "import matplotlib.pyplot as plt\n",
    "import seaborn as sns"
   ]
  },
  {
   "cell_type": "code",
   "execution_count": 2,
   "id": "c6bf0cce",
   "metadata": {},
   "outputs": [],
   "source": [
    "df = pd.read_csv('task2.csv')"
   ]
  },
  {
   "cell_type": "code",
   "execution_count": 3,
   "id": "de502d65",
   "metadata": {},
   "outputs": [
    {
     "name": "stdout",
     "output_type": "stream",
     "text": [
      "Requirement already satisfied: keras in c:\\users\\user\\anaconda3\\lib\\site-packages (2.11.0)\n"
     ]
    }
   ],
   "source": [
    "!pip install keras"
   ]
  },
  {
   "cell_type": "code",
   "execution_count": 4,
   "id": "8232c5d1",
   "metadata": {},
   "outputs": [
    {
     "name": "stdout",
     "output_type": "stream",
     "text": [
      "Requirement already satisfied: tensorflow in c:\\users\\user\\anaconda3\\lib\\site-packages (2.11.0)\n",
      "Requirement already satisfied: tensorflow-intel==2.11.0 in c:\\users\\user\\anaconda3\\lib\\site-packages (from tensorflow) (2.11.0)\n",
      "Requirement already satisfied: tensorboard<2.12,>=2.11 in c:\\users\\user\\anaconda3\\lib\\site-packages (from tensorflow-intel==2.11.0->tensorflow) (2.11.0)\n",
      "Requirement already satisfied: setuptools in c:\\users\\user\\anaconda3\\lib\\site-packages (from tensorflow-intel==2.11.0->tensorflow) (61.2.0)\n",
      "Requirement already satisfied: google-pasta>=0.1.1 in c:\\users\\user\\anaconda3\\lib\\site-packages (from tensorflow-intel==2.11.0->tensorflow) (0.2.0)\n",
      "Requirement already satisfied: termcolor>=1.1.0 in c:\\users\\user\\anaconda3\\lib\\site-packages (from tensorflow-intel==2.11.0->tensorflow) (2.1.0)\n",
      "Requirement already satisfied: wrapt>=1.11.0 in c:\\users\\user\\anaconda3\\lib\\site-packages (from tensorflow-intel==2.11.0->tensorflow) (1.12.1)\n",
      "Requirement already satisfied: tensorflow-estimator<2.12,>=2.11.0 in c:\\users\\user\\anaconda3\\lib\\site-packages (from tensorflow-intel==2.11.0->tensorflow) (2.11.0)\n",
      "Requirement already satisfied: numpy>=1.20 in c:\\users\\user\\anaconda3\\lib\\site-packages (from tensorflow-intel==2.11.0->tensorflow) (1.21.5)\n",
      "Requirement already satisfied: grpcio<2.0,>=1.24.3 in c:\\users\\user\\anaconda3\\lib\\site-packages (from tensorflow-intel==2.11.0->tensorflow) (1.42.0)\n",
      "Requirement already satisfied: astunparse>=1.6.0 in c:\\users\\user\\anaconda3\\lib\\site-packages (from tensorflow-intel==2.11.0->tensorflow) (1.6.3)\n",
      "Requirement already satisfied: tensorflow-io-gcs-filesystem>=0.23.1 in c:\\users\\user\\anaconda3\\lib\\site-packages (from tensorflow-intel==2.11.0->tensorflow) (0.27.0)\n",
      "Requirement already satisfied: absl-py>=1.0.0 in c:\\users\\user\\anaconda3\\lib\\site-packages (from tensorflow-intel==2.11.0->tensorflow) (1.3.0)\n",
      "Requirement already satisfied: libclang>=13.0.0 in c:\\users\\user\\anaconda3\\lib\\site-packages (from tensorflow-intel==2.11.0->tensorflow) (14.0.6)\n",
      "Requirement already satisfied: flatbuffers>=2.0 in c:\\users\\user\\anaconda3\\lib\\site-packages (from tensorflow-intel==2.11.0->tensorflow) (22.10.26)\n",
      "Requirement already satisfied: keras<2.12,>=2.11.0 in c:\\users\\user\\anaconda3\\lib\\site-packages (from tensorflow-intel==2.11.0->tensorflow) (2.11.0)\n",
      "Requirement already satisfied: opt-einsum>=2.3.2 in c:\\users\\user\\anaconda3\\lib\\site-packages (from tensorflow-intel==2.11.0->tensorflow) (3.3.0)\n",
      "Requirement already satisfied: packaging in c:\\users\\user\\anaconda3\\lib\\site-packages (from tensorflow-intel==2.11.0->tensorflow) (21.3)\n",
      "Requirement already satisfied: six>=1.12.0 in c:\\users\\user\\anaconda3\\lib\\site-packages (from tensorflow-intel==2.11.0->tensorflow) (1.16.0)\n",
      "Requirement already satisfied: gast<=0.4.0,>=0.2.1 in c:\\users\\user\\anaconda3\\lib\\site-packages (from tensorflow-intel==2.11.0->tensorflow) (0.4.0)\n",
      "Requirement already satisfied: protobuf<3.20,>=3.9.2 in c:\\users\\user\\anaconda3\\lib\\site-packages (from tensorflow-intel==2.11.0->tensorflow) (3.19.1)\n",
      "Requirement already satisfied: h5py>=2.9.0 in c:\\users\\user\\anaconda3\\lib\\site-packages (from tensorflow-intel==2.11.0->tensorflow) (3.6.0)\n",
      "Requirement already satisfied: typing-extensions>=3.6.6 in c:\\users\\user\\anaconda3\\lib\\site-packages (from tensorflow-intel==2.11.0->tensorflow) (4.1.1)\n",
      "Requirement already satisfied: wheel<1.0,>=0.23.0 in c:\\users\\user\\anaconda3\\lib\\site-packages (from astunparse>=1.6.0->tensorflow-intel==2.11.0->tensorflow) (0.37.1)\n",
      "Requirement already satisfied: markdown>=2.6.8 in c:\\users\\user\\anaconda3\\lib\\site-packages (from tensorboard<2.12,>=2.11->tensorflow-intel==2.11.0->tensorflow) (3.3.4)\n",
      "Requirement already satisfied: google-auth-oauthlib<0.5,>=0.4.1 in c:\\users\\user\\anaconda3\\lib\\site-packages (from tensorboard<2.12,>=2.11->tensorflow-intel==2.11.0->tensorflow) (0.4.6)\n",
      "Requirement already satisfied: requests<3,>=2.21.0 in c:\\users\\user\\anaconda3\\lib\\site-packages (from tensorboard<2.12,>=2.11->tensorflow-intel==2.11.0->tensorflow) (2.27.1)\n",
      "Requirement already satisfied: tensorboard-plugin-wit>=1.6.0 in c:\\users\\user\\anaconda3\\lib\\site-packages (from tensorboard<2.12,>=2.11->tensorflow-intel==2.11.0->tensorflow) (1.8.1)\n",
      "Requirement already satisfied: tensorboard-data-server<0.7.0,>=0.6.0 in c:\\users\\user\\anaconda3\\lib\\site-packages (from tensorboard<2.12,>=2.11->tensorflow-intel==2.11.0->tensorflow) (0.6.1)\n",
      "Requirement already satisfied: werkzeug>=1.0.1 in c:\\users\\user\\anaconda3\\lib\\site-packages (from tensorboard<2.12,>=2.11->tensorflow-intel==2.11.0->tensorflow) (2.0.3)\n",
      "Requirement already satisfied: google-auth<3,>=1.6.3 in c:\\users\\user\\anaconda3\\lib\\site-packages (from tensorboard<2.12,>=2.11->tensorflow-intel==2.11.0->tensorflow) (1.33.0)\n",
      "Requirement already satisfied: rsa<5,>=3.1.4 in c:\\users\\user\\anaconda3\\lib\\site-packages (from google-auth<3,>=1.6.3->tensorboard<2.12,>=2.11->tensorflow-intel==2.11.0->tensorflow) (4.7.2)\n",
      "Requirement already satisfied: cachetools<5.0,>=2.0.0 in c:\\users\\user\\anaconda3\\lib\\site-packages (from google-auth<3,>=1.6.3->tensorboard<2.12,>=2.11->tensorflow-intel==2.11.0->tensorflow) (4.2.2)\n",
      "Requirement already satisfied: pyasn1-modules>=0.2.1 in c:\\users\\user\\anaconda3\\lib\\site-packages (from google-auth<3,>=1.6.3->tensorboard<2.12,>=2.11->tensorflow-intel==2.11.0->tensorflow) (0.2.8)\n",
      "Requirement already satisfied: requests-oauthlib>=0.7.0 in c:\\users\\user\\anaconda3\\lib\\site-packages (from google-auth-oauthlib<0.5,>=0.4.1->tensorboard<2.12,>=2.11->tensorflow-intel==2.11.0->tensorflow) (1.3.1)\n",
      "Requirement already satisfied: pyasn1<0.5.0,>=0.4.6 in c:\\users\\user\\anaconda3\\lib\\site-packages (from pyasn1-modules>=0.2.1->google-auth<3,>=1.6.3->tensorboard<2.12,>=2.11->tensorflow-intel==2.11.0->tensorflow) (0.4.8)\n",
      "Requirement already satisfied: certifi>=2017.4.17 in c:\\users\\user\\anaconda3\\lib\\site-packages (from requests<3,>=2.21.0->tensorboard<2.12,>=2.11->tensorflow-intel==2.11.0->tensorflow) (2021.10.8)\n",
      "Requirement already satisfied: urllib3<1.27,>=1.21.1 in c:\\users\\user\\anaconda3\\lib\\site-packages (from requests<3,>=2.21.0->tensorboard<2.12,>=2.11->tensorflow-intel==2.11.0->tensorflow) (1.26.9)\n",
      "Requirement already satisfied: charset-normalizer~=2.0.0 in c:\\users\\user\\anaconda3\\lib\\site-packages (from requests<3,>=2.21.0->tensorboard<2.12,>=2.11->tensorflow-intel==2.11.0->tensorflow) (2.0.4)\n",
      "Requirement already satisfied: idna<4,>=2.5 in c:\\users\\user\\anaconda3\\lib\\site-packages (from requests<3,>=2.21.0->tensorboard<2.12,>=2.11->tensorflow-intel==2.11.0->tensorflow) (3.3)\n",
      "Requirement already satisfied: oauthlib>=3.0.0 in c:\\users\\user\\anaconda3\\lib\\site-packages (from requests-oauthlib>=0.7.0->google-auth-oauthlib<0.5,>=0.4.1->tensorboard<2.12,>=2.11->tensorflow-intel==2.11.0->tensorflow) (3.2.2)\n",
      "Requirement already satisfied: pyparsing!=3.0.5,>=2.0.2 in c:\\users\\user\\anaconda3\\lib\\site-packages (from packaging->tensorflow-intel==2.11.0->tensorflow) (3.0.4)\n"
     ]
    }
   ],
   "source": [
    "!pip install tensorflow"
   ]
  },
  {
   "cell_type": "code",
   "execution_count": 5,
   "id": "d94522e6",
   "metadata": {},
   "outputs": [],
   "source": [
    "from keras.models import Sequential\n",
    "# creates a linear stack of layers\n",
    "from keras.layers import Dense\n",
    "# connects the layers, takes input from the previous layer, applies a weight and generates an output\n",
    "from keras.layers import LSTM\n",
    "# Long short term memory - performs time - series analysis on the data\n",
    "from keras.layers import Dropout\n",
    "# prevents overfitting "
   ]
  },
  {
   "cell_type": "code",
   "execution_count": 6,
   "id": "dbb92ac5",
   "metadata": {},
   "outputs": [
    {
     "name": "stdout",
     "output_type": "stream",
     "text": [
      "<class 'pandas.core.frame.DataFrame'>\n",
      "RangeIndex: 2035 entries, 0 to 2034\n",
      "Data columns (total 8 columns):\n",
      " #   Column                Non-Null Count  Dtype  \n",
      "---  ------                --------------  -----  \n",
      " 0   Date                  2035 non-null   object \n",
      " 1   Open                  2035 non-null   float64\n",
      " 2   High                  2035 non-null   float64\n",
      " 3   Low                   2035 non-null   float64\n",
      " 4   Last                  2035 non-null   float64\n",
      " 5   Close                 2035 non-null   float64\n",
      " 6   Total Trade Quantity  2035 non-null   int64  \n",
      " 7   Turnover (Lacs)       2035 non-null   float64\n",
      "dtypes: float64(6), int64(1), object(1)\n",
      "memory usage: 127.3+ KB\n"
     ]
    }
   ],
   "source": [
    "df.info()"
   ]
  },
  {
   "cell_type": "code",
   "execution_count": 10,
   "id": "75450ab2",
   "metadata": {},
   "outputs": [],
   "source": [
    "df1 = df.reset_index()['Close']"
   ]
  },
  {
   "cell_type": "code",
   "execution_count": 11,
   "id": "071d6323",
   "metadata": {},
   "outputs": [
    {
     "data": {
      "text/plain": [
       "0       233.75\n",
       "1       233.25\n",
       "2       234.25\n",
       "3       236.10\n",
       "4       233.30\n",
       "         ...  \n",
       "2030    118.65\n",
       "2031    117.60\n",
       "2032    120.65\n",
       "2033    120.90\n",
       "2034    121.55\n",
       "Name: Close, Length: 2035, dtype: float64"
      ]
     },
     "execution_count": 11,
     "metadata": {},
     "output_type": "execute_result"
    }
   ],
   "source": [
    "df1"
   ]
  },
  {
   "cell_type": "code",
   "execution_count": 12,
   "id": "9eedddc1",
   "metadata": {},
   "outputs": [
    {
     "data": {
      "text/plain": [
       "Text(0.5, 1.0, 'CLOSING GRAPH OF STOCK-MARKET')"
      ]
     },
     "execution_count": 12,
     "metadata": {},
     "output_type": "execute_result"
    },
    {
     "data": {
      "image/png": "[encoded data removed]",
      "text/plain": [
       "<Figure size 432x288 with 1 Axes>"
      ]
     },
     "metadata": {
      "needs_background": "light"
     },
     "output_type": "display_data"
    }
   ],
   "source": [
    "plt.plot(df1)\n",
    "plt.rcParams['figure.figsize'] = [15,7]\n",
    "plt.title('CLOSING GRAPH OF STOCK-MARKET')"
   ]
  },
  {
   "cell_type": "code",
   "execution_count": 14,
   "id": "e128433a",
   "metadata": {},
   "outputs": [
    {
     "data": {
      "text/plain": [
       "80.95"
      ]
     },
     "execution_count": 14,
     "metadata": {},
     "output_type": "execute_result"
    }
   ],
   "source": [
    "df1.min()\n"
   ]
  },
  {
   "cell_type": "code",
   "execution_count": 15,
   "id": "55072c97",
   "metadata": {},
   "outputs": [
    {
     "data": {
      "text/plain": [
       "325.75"
      ]
     },
     "execution_count": 15,
     "metadata": {},
     "output_type": "execute_result"
    }
   ],
   "source": [
    "df1.max()"
   ]
  },
  {
   "cell_type": "code",
   "execution_count": 16,
   "id": "c918e88f",
   "metadata": {},
   "outputs": [
    {
     "data": {
      "text/plain": [
       "149.45027027027015"
      ]
     },
     "execution_count": 16,
     "metadata": {},
     "output_type": "execute_result"
    }
   ],
   "source": [
    "df1.mean()"
   ]
  },
  {
   "cell_type": "code",
   "execution_count": 17,
   "id": "763a9bb1",
   "metadata": {},
   "outputs": [],
   "source": [
    "#applying min max scaler to the data\n",
    "from sklearn.preprocessing import MinMaxScaler"
   ]
  },
  {
   "cell_type": "code",
   "execution_count": 18,
   "id": "fabcd4fe",
   "metadata": {},
   "outputs": [],
   "source": [
    "mm = MinMaxScaler()"
   ]
  },
  {
   "cell_type": "code",
   "execution_count": 22,
   "id": "8beedd8c",
   "metadata": {},
   "outputs": [],
   "source": [
    "df1 = df1.reshape(-1,1)"
   ]
  },
  {
   "cell_type": "code",
   "execution_count": 23,
   "id": "965a1abb",
   "metadata": {},
   "outputs": [],
   "source": [
    "df2 = mm.fit_transform(df1)"
   ]
  },
  {
   "cell_type": "code",
   "execution_count": 24,
   "id": "db094baf",
   "metadata": {},
   "outputs": [
    {
     "data": {
      "text/plain": [
       "array([[0.62418301],\n",
       "       [0.62214052],\n",
       "       [0.62622549],\n",
       "       ...,\n",
       "       [0.1621732 ],\n",
       "       [0.16319444],\n",
       "       [0.16584967]])"
      ]
     },
     "execution_count": 24,
     "metadata": {},
     "output_type": "execute_result"
    }
   ],
   "source": [
    "df2"
   ]
  },
  {
   "cell_type": "code",
   "execution_count": 25,
   "id": "4eab73f5",
   "metadata": {},
   "outputs": [],
   "source": [
    "from sklearn.model_selection import train_test_split"
   ]
  },
  {
   "cell_type": "code",
   "execution_count": 26,
   "id": "175bee9a",
   "metadata": {},
   "outputs": [],
   "source": [
    "train_size = len(df2)*0.75"
   ]
  },
  {
   "cell_type": "code",
   "execution_count": 40,
   "id": "bd40aa79",
   "metadata": {},
   "outputs": [
    {
     "data": {
      "text/plain": [
       "1526"
      ]
     },
     "execution_count": 40,
     "metadata": {},
     "output_type": "execute_result"
    }
   ],
   "source": [
    "ts"
   ]
  },
  {
   "cell_type": "code",
   "execution_count": 28,
   "id": "37e724c0",
   "metadata": {},
   "outputs": [],
   "source": [
    "test_size = len(df2) - train_size"
   ]
  },
  {
   "cell_type": "code",
   "execution_count": 31,
   "id": "8b4508a9",
   "metadata": {},
   "outputs": [],
   "source": [
    "ts = int(train_size)"
   ]
  },
  {
   "cell_type": "code",
   "execution_count": 32,
   "id": "6a00711b",
   "metadata": {},
   "outputs": [],
   "source": [
    "tes = int(test_size)"
   ]
  },
  {
   "cell_type": "code",
   "execution_count": 34,
   "id": "cf950891",
   "metadata": {},
   "outputs": [],
   "source": [
    "train_data = df2[:ts,:]\n",
    "test_data = df2[ts:len(df2),:]"
   ]
  },
  {
   "cell_type": "code",
   "execution_count": 35,
   "id": "facd1637",
   "metadata": {},
   "outputs": [],
   "source": [
    "def select_data(dataset, time_step=1):\n",
    "    dataX, dataY = [], []\n",
    "    for i in range(len(dataset)-time_step-1):\n",
    "        dataX.append(dataset[i:(i+time_step), 0])\n",
    "        dataY.append(dataset[i + time_step, 0])\n",
    "    return np.array(dataX), np.array(dataY)"
   ]
  },
  {
   "cell_type": "code",
   "execution_count": 36,
   "id": "b030685e",
   "metadata": {},
   "outputs": [],
   "source": [
    "timestep = 200\n",
    "\n",
    "X_train, y_train = select_data(train_data, timestep)\n",
    "X_test, y_test = select_data(test_data, timestep)"
   ]
  },
  {
   "cell_type": "code",
   "execution_count": 37,
   "id": "123aee14",
   "metadata": {},
   "outputs": [
    {
     "data": {
      "text/plain": [
       "(array([[0.1621732 , 0.15972222, 0.16278595, ..., 0.03819444, 0.02839052,\n",
       "         0.02369281],\n",
       "        [0.15972222, 0.16278595, 0.17340686, ..., 0.02839052, 0.02369281,\n",
       "         0.02920752],\n",
       "        [0.16278595, 0.17340686, 0.14174837, ..., 0.02369281, 0.02920752,\n",
       "         0.02328431],\n",
       "        ...,\n",
       "        [0.06944444, 0.08088235, 0.07700163, ..., 0.14562908, 0.15236928,\n",
       "         0.15400327],\n",
       "        [0.08088235, 0.07700163, 0.0684232 , ..., 0.15236928, 0.15400327,\n",
       "         0.14971405],\n",
       "        [0.07700163, 0.0684232 , 0.06781046, ..., 0.15400327, 0.14971405,\n",
       "         0.1621732 ]]),\n",
       " array([0.02920752, 0.02328431, 0.01919935, 0.00653595, 0.00061275,\n",
       "        0.00796569, 0.01245915, 0.01981209, 0.01940359, 0.02246732,\n",
       "        0.03125   , 0.02348856, 0.0249183 , 0.02144608, 0.04840686,\n",
       "        0.04575163, 0.03962418, 0.03921569, 0.04758987, 0.04513889,\n",
       "        0.04166667, 0.04125817, 0.05044935, 0.05555556, 0.05494281,\n",
       "        0.05412582, 0.0435049 , 0.04799837, 0.05147059, 0.05065359,\n",
       "        0.03431373, 0.04575163, 0.04187092, 0.04554739, 0.03941993,\n",
       "        0.02716503, 0.03125   , 0.05882353, 0.07148693, 0.08721405,\n",
       "        0.08986928, 0.10498366, 0.08905229, 0.10355392, 0.10375817,\n",
       "        0.12275327, 0.10906863, 0.09660948, 0.1064134 , 0.10457516,\n",
       "        0.11049837, 0.1127451 , 0.09803922, 0.09987745, 0.08925654,\n",
       "        0.0747549 , 0.08169935, 0.08925654, 0.09068627, 0.08129085,\n",
       "        0.08823529, 0.08455882, 0.07945261, 0.08374183, 0.07781863,\n",
       "        0.09824346, 0.09089052, 0.09007353, 0.09558824, 0.06862745,\n",
       "        0.06372549, 0.0494281 , 0.04799837, 0.04534314, 0.0443219 ,\n",
       "        0.03941993, 0.0379902 , 0.04656863, 0.05085784, 0.07209967,\n",
       "        0.06535948, 0.07230392, 0.07802288, 0.07741013, 0.06086601,\n",
       "        0.06413399, 0.07046569, 0.05412582, 0.0498366 , 0.05167484,\n",
       "        0.05330882, 0.0435049 , 0.02634804, 0.02410131, 0.02961601,\n",
       "        0.01960784, 0.02961601, 0.04575163, 0.05923203, 0.06678922,\n",
       "        0.06229575, 0.06311275, 0.0629085 , 0.06658497, 0.07434641,\n",
       "        0.06944444, 0.08088235, 0.07700163, 0.0684232 , 0.06781046,\n",
       "        0.0629085 , 0.0692402 , 0.0755719 , 0.07781863, 0.08088235,\n",
       "        0.08843954, 0.09395425, 0.09599673, 0.08660131, 0.09027778,\n",
       "        0.08517157, 0.08374183, 0.07945261, 0.09109477, 0.09129902,\n",
       "        0.08803105, 0.09681373, 0.11417484, 0.10498366, 0.09987745,\n",
       "        0.08537582, 0.08047386, 0.06862745, 0.06576797, 0.06147876,\n",
       "        0.07169118, 0.07026144, 0.0747549 , 0.06821895, 0.0692402 ,\n",
       "        0.07066993, 0.06801471, 0.06678922, 0.07414216, 0.07169118,\n",
       "        0.08639706, 0.08312908, 0.06311275, 0.0629085 , 0.05167484,\n",
       "        0.03186275, 0.04003268, 0.03860294, 0.04105392, 0.03390523,\n",
       "        0.03125   , 0.02634804, 0.05861928, 0.06311275, 0.0620915 ,\n",
       "        0.05535131, 0.08455882, 0.05514706, 0.06045752, 0.0557598 ,\n",
       "        0.0439134 , 0.02920752, 0.02818627, 0.04718137, 0.06045752,\n",
       "        0.05861928, 0.06168301, 0.06699346, 0.07087418, 0.0755719 ,\n",
       "        0.07700163, 0.10375817, 0.10314542, 0.10334967, 0.10089869,\n",
       "        0.10437092, 0.09803922, 0.09722222, 0.09783497, 0.09579248,\n",
       "        0.09109477, 0.09313725, 0.08558007, 0.09517974, 0.11172386,\n",
       "        0.12275327, 0.12806373, 0.1313317 , 0.12479575, 0.11090686,\n",
       "        0.10743464, 0.11621732, 0.11683007, 0.11764706, 0.12888072,\n",
       "        0.12847222, 0.13337418, 0.14236111, 0.14093137, 0.13970588,\n",
       "        0.13827614, 0.13541667, 0.13010621, 0.12254902, 0.12479575,\n",
       "        0.13848039, 0.14011438, 0.13888889, 0.13541667, 0.14011438,\n",
       "        0.1380719 , 0.13071895, 0.13071895, 0.12867647, 0.11846405,\n",
       "        0.14644608, 0.14808007, 0.15910948, 0.15992647, 0.15788399,\n",
       "        0.16441993, 0.17892157, 0.17933007, 0.19260621, 0.20812908,\n",
       "        0.18974673, 0.18055556, 0.18239379, 0.17708333, 0.17810458,\n",
       "        0.18055556, 0.17810458, 0.17851307, 0.19607843, 0.18913399,\n",
       "        0.18954248, 0.19403595, 0.19444444, 0.20200163, 0.19771242,\n",
       "        0.19934641, 0.19873366, 0.1997549 , 0.2128268 , 0.21568627,\n",
       "        0.20445261, 0.21772876, 0.21098856, 0.21425654, 0.19750817,\n",
       "        0.18811275, 0.17851307, 0.17381536, 0.16033497, 0.16564542,\n",
       "        0.17116013, 0.17422386, 0.18035131, 0.17401961, 0.16278595,\n",
       "        0.16973039, 0.17810458, 0.17034314, 0.16830065, 0.17279412,\n",
       "        0.17544935, 0.18382353, 0.19138072, 0.18913399, 0.19097222,\n",
       "        0.17238562, 0.16830065, 0.1693219 , 0.17177288, 0.16156046,\n",
       "        0.14971405, 0.1503268 , 0.15196078, 0.14726307, 0.14501634,\n",
       "        0.14603758, 0.12479575, 0.13112745, 0.11397059, 0.1190768 ,\n",
       "        0.12377451, 0.13562092, 0.12908497, 0.13459967, 0.12806373,\n",
       "        0.13031046, 0.12724673, 0.13521242, 0.14522059, 0.15257353,\n",
       "        0.14848856, 0.14338235, 0.14562908, 0.15236928, 0.15400327,\n",
       "        0.14971405, 0.1621732 , 0.16319444]))"
      ]
     },
     "execution_count": 37,
     "metadata": {},
     "output_type": "execute_result"
    }
   ],
   "source": [
    "X_test, y_test\n"
   ]
  },
  {
   "cell_type": "code",
   "execution_count": 38,
   "id": "e04e5178",
   "metadata": {},
   "outputs": [],
   "source": [
    "\n",
    "X_train = X_train.reshape(X_train.shape[0],X_train.shape[1] , 1)\n",
    "X_test = X_test.reshape(X_test.shape[0],X_test.shape[1] , 1)"
   ]
  },
  {
   "cell_type": "code",
   "execution_count": 39,
   "id": "79dd2def",
   "metadata": {},
   "outputs": [
    {
     "name": "stdout",
     "output_type": "stream",
     "text": [
      "Model: \"sequential\"\n",
      "_________________________________________________________________\n",
      " Layer (type)                Output Shape              Param #   \n",
      "=================================================================\n",
      " lstm (LSTM)                 (None, 200, 50)           10400     \n",
      "                                                                 \n",
      " dropout (Dropout)           (None, 200, 50)           0         \n",
      "                                                                 \n",
      " lstm_1 (LSTM)               (None, 200, 50)           20200     \n",
      "                                                                 \n",
      " dropout_1 (Dropout)         (None, 200, 50)           0         \n",
      "                                                                 \n",
      " lstm_2 (LSTM)               (None, 50)                20200     \n",
      "                                                                 \n",
      " dropout_2 (Dropout)         (None, 50)                0         \n",
      "                                                                 \n",
      " dense (Dense)               (None, 1)                 51        \n",
      "                                                                 \n",
      "=================================================================\n",
      "Total params: 50,851\n",
      "Trainable params: 50,851\n",
      "Non-trainable params: 0\n",
      "_________________________________________________________________\n",
      "Epoch 1/50\n",
      "42/42 [==============================] - 35s 424ms/step - loss: 0.0104 - val_loss: 0.0038\n",
      "Epoch 2/50\n",
      "42/42 [==============================] - 13s 299ms/step - loss: 0.0020 - val_loss: 0.0014\n",
      "Epoch 3/50\n",
      "42/42 [==============================] - 13s 317ms/step - loss: 0.0018 - val_loss: 0.0014\n",
      "Epoch 4/50\n",
      "42/42 [==============================] - 13s 312ms/step - loss: 0.0019 - val_loss: 0.0012\n",
      "Epoch 5/50\n",
      "42/42 [==============================] - 12s 281ms/step - loss: 0.0019 - val_loss: 0.0011\n",
      "Epoch 6/50\n",
      "42/42 [==============================] - 12s 275ms/step - loss: 0.0018 - val_loss: 0.0017\n",
      "Epoch 7/50\n",
      "42/42 [==============================] - 13s 312ms/step - loss: 0.0015 - val_loss: 9.5343e-04\n",
      "Epoch 8/50\n",
      "42/42 [==============================] - 14s 333ms/step - loss: 0.0015 - val_loss: 8.1625e-04\n",
      "Epoch 9/50\n",
      "42/42 [==============================] - 17s 413ms/step - loss: 0.0014 - val_loss: 5.8111e-04\n",
      "Epoch 10/50\n",
      "42/42 [==============================] - 13s 306ms/step - loss: 0.0013 - val_loss: 8.3995e-04\n",
      "Epoch 11/50\n",
      "42/42 [==============================] - 12s 298ms/step - loss: 0.0014 - val_loss: 6.7211e-04\n",
      "Epoch 12/50\n",
      "42/42 [==============================] - 12s 274ms/step - loss: 0.0016 - val_loss: 0.0015\n",
      "Epoch 13/50\n",
      "42/42 [==============================] - 12s 290ms/step - loss: 0.0012 - val_loss: 4.8507e-04\n",
      "Epoch 14/50\n",
      "42/42 [==============================] - 13s 320ms/step - loss: 0.0012 - val_loss: 5.9096e-04\n",
      "Epoch 15/50\n",
      "42/42 [==============================] - 12s 299ms/step - loss: 0.0011 - val_loss: 9.7413e-04\n",
      "Epoch 16/50\n",
      "42/42 [==============================] - 13s 301ms/step - loss: 0.0013 - val_loss: 3.7327e-04\n",
      "Epoch 17/50\n",
      "42/42 [==============================] - 13s 299ms/step - loss: 0.0012 - val_loss: 4.4936e-04\n",
      "Epoch 18/50\n",
      "42/42 [==============================] - 13s 299ms/step - loss: 0.0011 - val_loss: 5.6834e-04\n",
      "Epoch 19/50\n",
      "42/42 [==============================] - 13s 307ms/step - loss: 0.0010 - val_loss: 3.4082e-04\n",
      "Epoch 20/50\n",
      "42/42 [==============================] - 12s 290ms/step - loss: 9.6877e-04 - val_loss: 5.3907e-04\n",
      "Epoch 21/50\n",
      "42/42 [==============================] - 12s 285ms/step - loss: 9.4464e-04 - val_loss: 5.4287e-04\n",
      "Epoch 22/50\n",
      "42/42 [==============================] - 12s 286ms/step - loss: 9.9417e-04 - val_loss: 6.9165e-04\n",
      "Epoch 23/50\n",
      "42/42 [==============================] - 13s 310ms/step - loss: 0.0010 - val_loss: 8.8942e-04\n",
      "Epoch 24/50\n",
      "42/42 [==============================] - 13s 311ms/step - loss: 9.5756e-04 - val_loss: 4.6624e-04\n",
      "Epoch 25/50\n",
      "42/42 [==============================] - 11s 272ms/step - loss: 8.5863e-04 - val_loss: 3.7923e-04\n",
      "Epoch 26/50\n",
      "42/42 [==============================] - 12s 284ms/step - loss: 7.8580e-04 - val_loss: 4.2208e-04\n",
      "Epoch 27/50\n",
      "42/42 [==============================] - 13s 307ms/step - loss: 8.5999e-04 - val_loss: 3.9648e-04\n",
      "Epoch 28/50\n",
      "42/42 [==============================] - 13s 310ms/step - loss: 7.9963e-04 - val_loss: 3.0525e-04\n",
      "Epoch 29/50\n",
      "42/42 [==============================] - 12s 288ms/step - loss: 7.8494e-04 - val_loss: 4.3933e-04\n",
      "Epoch 30/50\n",
      "42/42 [==============================] - 13s 306ms/step - loss: 8.2173e-04 - val_loss: 2.6224e-04\n",
      "Epoch 31/50\n",
      "42/42 [==============================] - 12s 287ms/step - loss: 7.3244e-04 - val_loss: 2.7029e-04\n",
      "Epoch 32/50\n",
      "42/42 [==============================] - 13s 308ms/step - loss: 7.1989e-04 - val_loss: 2.4769e-04\n",
      "Epoch 33/50\n",
      "42/42 [==============================] - 13s 309ms/step - loss: 6.8721e-04 - val_loss: 2.9675e-04\n",
      "Epoch 34/50\n",
      "42/42 [==============================] - 12s 285ms/step - loss: 6.5978e-04 - val_loss: 2.5218e-04\n",
      "Epoch 35/50\n",
      "42/42 [==============================] - 12s 276ms/step - loss: 6.9872e-04 - val_loss: 7.5514e-04\n",
      "Epoch 36/50\n",
      "42/42 [==============================] - 12s 298ms/step - loss: 7.4661e-04 - val_loss: 2.3307e-04\n",
      "Epoch 37/50\n",
      "42/42 [==============================] - 13s 308ms/step - loss: 6.1666e-04 - val_loss: 4.7983e-04\n",
      "Epoch 38/50\n",
      "42/42 [==============================] - 12s 292ms/step - loss: 6.0292e-04 - val_loss: 2.2734e-04\n",
      "Epoch 39/50\n",
      "42/42 [==============================] - 12s 285ms/step - loss: 5.8771e-04 - val_loss: 3.0689e-04\n",
      "Epoch 40/50\n",
      "42/42 [==============================] - 12s 294ms/step - loss: 5.6891e-04 - val_loss: 4.9111e-04\n",
      "Epoch 41/50\n",
      "42/42 [==============================] - 13s 309ms/step - loss: 6.3339e-04 - val_loss: 2.3709e-04\n",
      "Epoch 42/50\n",
      "42/42 [==============================] - 13s 308ms/step - loss: 6.3440e-04 - val_loss: 2.1717e-04\n",
      "Epoch 43/50\n",
      "42/42 [==============================] - 12s 279ms/step - loss: 5.8382e-04 - val_loss: 3.6870e-04\n",
      "Epoch 44/50\n",
      "42/42 [==============================] - 12s 277ms/step - loss: 5.4154e-04 - val_loss: 2.3673e-04\n",
      "Epoch 45/50\n",
      "42/42 [==============================] - 13s 311ms/step - loss: 5.5574e-04 - val_loss: 1.9347e-04\n",
      "Epoch 46/50\n",
      "42/42 [==============================] - 13s 312ms/step - loss: 5.7420e-04 - val_loss: 1.9459e-04\n",
      "Epoch 47/50\n",
      " 8/42 [====>.........................] - ETA: 7s - loss: 6.6471e-04"
     ]
    },
    {
     "name": "stderr",
     "output_type": "stream",
     "text": [
      "\n",
      "KeyboardInterrupt\n",
      "\n"
     ]
    }
   ],
   "source": [
    "model=Sequential()\n",
    "model.add(LSTM(50,return_sequences=True,input_shape=(timestep,1)))\n",
    "model.add(Dropout(0.2))\n",
    "\n",
    "model.add(LSTM(50,return_sequences=True))\n",
    "model.add(Dropout(0.2))\n",
    "\n",
    "model.add(LSTM(50))\n",
    "model.add(Dropout(0.2))\n",
    "\n",
    "model.add(Dense(1))\n",
    "model.compile(loss='mean_squared_error',optimizer='adam')\n",
    "model.summary()\n",
    "model.fit(X_train, y_train, validation_data = (X_test, y_test),epochs = 50,batch_size = 32, verbose=1)"
   ]
  },
  {
   "cell_type": "code",
   "execution_count": 42,
   "id": "9dfa7e05",
   "metadata": {},
   "outputs": [
    {
     "name": "stdout",
     "output_type": "stream",
     "text": [
      "42/42 [==============================] - 4s 102ms/step\n",
      "10/10 [==============================] - 1s 74ms/step\n"
     ]
    }
   ],
   "source": [
    "\n",
    "#------------DOING PREDICTIONS --------------\n",
    "\n",
    "train_predict=model.predict(X_train)       # output for train dataset\n",
    "test_predict=model.predict(X_test)        # output for test dataset\n",
    "\n",
    "#----------------- BACK TO ORIGINAL DATA ------------------\n",
    "train_predict=mm.inverse_transform(train_predict)\n",
    "test_predict=mm.inverse_transform(test_predict)"
   ]
  },
  {
   "cell_type": "code",
   "execution_count": 46,
   "id": "55a0cfc7",
   "metadata": {},
   "outputs": [],
   "source": [
    "\n",
    "\n",
    "t = timestep\n",
    "\n",
    "p1 = np.empty_like(df1)       #train-pred-plot\n",
    "p1[:,:] =np.nan\n",
    "p1[t : len(train_predict)+t , : ] =  train_predict"
   ]
  },
  {
   "cell_type": "code",
   "execution_count": 47,
   "id": "d2efb0ce",
   "metadata": {},
   "outputs": [],
   "source": [
    "\n",
    "p2 = np.empty_like(df1)       #test-pred-plot\n",
    "p2[:,:] =np.nan\n",
    "p2[ len(train_predict)+ t*2 + 1 : len(df1) -1 , : ] =  test_predict"
   ]
  },
  {
   "cell_type": "code",
   "execution_count": 50,
   "id": "77e25612",
   "metadata": {},
   "outputs": [
    {
     "data": {
      "image/png": "[encoded data removed]",
      "text/plain": [
       "<Figure size 1080x504 with 1 Axes>"
      ]
     },
     "metadata": {
      "needs_background": "light"
     },
     "output_type": "display_data"
    }
   ],
   "source": [
    "from matplotlib.pyplot import figure\n",
    "plt.plot(mm.inverse_transform(df2) , color = 'red', label = 'Real Stock Price')\n",
    "plt.plot(p1 , color = 'blue', label = 'Predicted Stock Price 1 - training ')\n",
    "plt.plot(p2 , color = 'green', label = 'Predicted Stock Price 2 - testing ')\n",
    "\n",
    "plt.rcParams['figure.figsize'] = [15,7]\n",
    "plt.legend()\n",
    "plt.show()"
   ]
  },
  {
   "cell_type": "code",
   "execution_count": null,
   "id": "ed402b77",
   "metadata": {},
   "outputs": [],
   "source": []
  }
 ],
 "metadata": {
  "kernelspec": {
   "display_name": "Python 3 (ipykernel)",
   "language": "python",
   "name": "python3"
  },
  "language_info": {
   "codemirror_mode": {
    "name": "ipython",
    "version": 3
   },
   "file_extension": ".py",
   "mimetype": "text/x-python",
   "name": "python",
   "nbconvert_exporter": "python",
   "pygments_lexer": "ipython3",
   "version": "3.9.12"
  }
 },
 "nbformat": 4,
 "nbformat_minor": 5
}
