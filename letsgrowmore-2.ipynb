{
 "cells": [
  {
   "cell_type": "code",
   "execution_count": 1,
   "id": "bab008d3",
   "metadata": {},
   "outputs": [],
   "source": [
    "import pandas as pd\n",
    "import numpy as np\n",
    "import seaborn as sns\n",
    "import matplotlib.pyplot as plt"
   ]
  },
  {
   "cell_type": "code",
   "execution_count": 2,
   "id": "7a448181",
   "metadata": {},
   "outputs": [],
   "source": [
    "df = pd.read_csv('t2.csv')"
   ]
  },
  {
   "cell_type": "code",
   "execution_count": 3,
   "id": "805a1fa1",
   "metadata": {},
   "outputs": [
    {
     "data": {
      "text/html": [
       "<div>\n",
       "<style scoped>\n",
       "    .dataframe tbody tr th:only-of-type {\n",
       "        vertical-align: middle;\n",
       "    }\n",
       "\n",
       "    .dataframe tbody tr th {\n",
       "        vertical-align: top;\n",
       "    }\n",
       "\n",
       "    .dataframe thead th {\n",
       "        text-align: right;\n",
       "    }\n",
       "</style>\n",
       "<table border=\"1\" class=\"dataframe\">\n",
       "  <thead>\n",
       "    <tr style=\"text-align: right;\">\n",
       "      <th></th>\n",
       "      <th>Date</th>\n",
       "      <th>Open</th>\n",
       "      <th>High</th>\n",
       "      <th>Low</th>\n",
       "      <th>Last</th>\n",
       "      <th>Close</th>\n",
       "      <th>Total Trade Quantity</th>\n",
       "      <th>Turnover (Lacs)</th>\n",
       "    </tr>\n",
       "  </thead>\n",
       "  <tbody>\n",
       "    <tr>\n",
       "      <th>0</th>\n",
       "      <td>28-09-18</td>\n",
       "      <td>234.05</td>\n",
       "      <td>235.95</td>\n",
       "      <td>230.20</td>\n",
       "      <td>233.50</td>\n",
       "      <td>233.75</td>\n",
       "      <td>3069914</td>\n",
       "      <td>7162.35</td>\n",
       "    </tr>\n",
       "    <tr>\n",
       "      <th>1</th>\n",
       "      <td>27-09-18</td>\n",
       "      <td>234.55</td>\n",
       "      <td>236.80</td>\n",
       "      <td>231.10</td>\n",
       "      <td>233.80</td>\n",
       "      <td>233.25</td>\n",
       "      <td>5082859</td>\n",
       "      <td>11859.95</td>\n",
       "    </tr>\n",
       "    <tr>\n",
       "      <th>2</th>\n",
       "      <td>26-09-18</td>\n",
       "      <td>240.00</td>\n",
       "      <td>240.00</td>\n",
       "      <td>232.50</td>\n",
       "      <td>235.00</td>\n",
       "      <td>234.25</td>\n",
       "      <td>2240909</td>\n",
       "      <td>5248.60</td>\n",
       "    </tr>\n",
       "    <tr>\n",
       "      <th>3</th>\n",
       "      <td>25-09-18</td>\n",
       "      <td>233.30</td>\n",
       "      <td>236.75</td>\n",
       "      <td>232.00</td>\n",
       "      <td>236.25</td>\n",
       "      <td>236.10</td>\n",
       "      <td>2349368</td>\n",
       "      <td>5503.90</td>\n",
       "    </tr>\n",
       "    <tr>\n",
       "      <th>4</th>\n",
       "      <td>24-09-18</td>\n",
       "      <td>233.55</td>\n",
       "      <td>239.20</td>\n",
       "      <td>230.75</td>\n",
       "      <td>234.00</td>\n",
       "      <td>233.30</td>\n",
       "      <td>3423509</td>\n",
       "      <td>7999.55</td>\n",
       "    </tr>\n",
       "  </tbody>\n",
       "</table>\n",
       "</div>"
      ],
      "text/plain": [
       "       Date    Open    High     Low    Last   Close  Total Trade Quantity  \\\n",
       "0  28-09-18  234.05  235.95  230.20  233.50  233.75               3069914   \n",
       "1  27-09-18  234.55  236.80  231.10  233.80  233.25               5082859   \n",
       "2  26-09-18  240.00  240.00  232.50  235.00  234.25               2240909   \n",
       "3  25-09-18  233.30  236.75  232.00  236.25  236.10               2349368   \n",
       "4  24-09-18  233.55  239.20  230.75  234.00  233.30               3423509   \n",
       "\n",
       "   Turnover (Lacs)  \n",
       "0          7162.35  \n",
       "1         11859.95  \n",
       "2          5248.60  \n",
       "3          5503.90  \n",
       "4          7999.55  "
      ]
     },
     "execution_count": 3,
     "metadata": {},
     "output_type": "execute_result"
    }
   ],
   "source": [
    "df.head()"
   ]
  },
  {
   "cell_type": "code",
   "execution_count": 4,
   "id": "7cc1cb65",
   "metadata": {},
   "outputs": [
    {
     "data": {
      "text/plain": [
       "(2035, 8)"
      ]
     },
     "execution_count": 4,
     "metadata": {},
     "output_type": "execute_result"
    }
   ],
   "source": [
    "df.shape"
   ]
  },
  {
   "cell_type": "code",
   "execution_count": 5,
   "id": "d8b67eff",
   "metadata": {},
   "outputs": [
    {
     "data": {
      "text/plain": [
       "Index(['Date', 'Open', 'High', 'Low', 'Last', 'Close', 'Total Trade Quantity',\n",
       "       'Turnover (Lacs)'],\n",
       "      dtype='object')"
      ]
     },
     "execution_count": 5,
     "metadata": {},
     "output_type": "execute_result"
    }
   ],
   "source": [
    "df.columns"
   ]
  },
  {
   "cell_type": "code",
   "execution_count": 6,
   "id": "fad9d8d3",
   "metadata": {},
   "outputs": [
    {
     "name": "stdout",
     "output_type": "stream",
     "text": [
      "<class 'pandas.core.frame.DataFrame'>\n",
      "RangeIndex: 2035 entries, 0 to 2034\n",
      "Data columns (total 8 columns):\n",
      " #   Column                Non-Null Count  Dtype  \n",
      "---  ------                --------------  -----  \n",
      " 0   Date                  2035 non-null   object \n",
      " 1   Open                  2035 non-null   float64\n",
      " 2   High                  2035 non-null   float64\n",
      " 3   Low                   2035 non-null   float64\n",
      " 4   Last                  2035 non-null   float64\n",
      " 5   Close                 2035 non-null   float64\n",
      " 6   Total Trade Quantity  2035 non-null   int64  \n",
      " 7   Turnover (Lacs)       2035 non-null   float64\n",
      "dtypes: float64(6), int64(1), object(1)\n",
      "memory usage: 127.3+ KB\n"
     ]
    }
   ],
   "source": [
    "df.info()"
   ]
  },
  {
   "cell_type": "code",
   "execution_count": 9,
   "id": "a8d0a9c9",
   "metadata": {},
   "outputs": [],
   "source": [
    "df['Date'] = pd.to_datetime(df['Date'])"
   ]
  },
  {
   "cell_type": "code",
   "execution_count": 11,
   "id": "08357ad8",
   "metadata": {},
   "outputs": [
    {
     "name": "stdout",
     "output_type": "stream",
     "text": [
      "<class 'pandas.core.frame.DataFrame'>\n",
      "RangeIndex: 2035 entries, 0 to 2034\n",
      "Data columns (total 8 columns):\n",
      " #   Column                Non-Null Count  Dtype         \n",
      "---  ------                --------------  -----         \n",
      " 0   Date                  2035 non-null   datetime64[ns]\n",
      " 1   Open                  2035 non-null   float64       \n",
      " 2   High                  2035 non-null   float64       \n",
      " 3   Low                   2035 non-null   float64       \n",
      " 4   Last                  2035 non-null   float64       \n",
      " 5   Close                 2035 non-null   float64       \n",
      " 6   Total Trade Quantity  2035 non-null   int64         \n",
      " 7   Turnover (Lacs)       2035 non-null   float64       \n",
      "dtypes: datetime64[ns](1), float64(6), int64(1)\n",
      "memory usage: 127.3 KB\n"
     ]
    }
   ],
   "source": [
    "df.info()"
   ]
  },
  {
   "cell_type": "code",
   "execution_count": 13,
   "id": "d3b8fe4d",
   "metadata": {},
   "outputs": [],
   "source": [
    "df1 = df.reset_index()['Close']"
   ]
  },
  {
   "cell_type": "code",
   "execution_count": 14,
   "id": "cf117c49",
   "metadata": {},
   "outputs": [
    {
     "data": {
      "text/plain": [
       "0       233.75\n",
       "1       233.25\n",
       "2       234.25\n",
       "3       236.10\n",
       "4       233.30\n",
       "         ...  \n",
       "2030    118.65\n",
       "2031    117.60\n",
       "2032    120.65\n",
       "2033    120.90\n",
       "2034    121.55\n",
       "Name: Close, Length: 2035, dtype: float64"
      ]
     },
     "execution_count": 14,
     "metadata": {},
     "output_type": "execute_result"
    }
   ],
   "source": [
    "df1"
   ]
  },
  {
   "cell_type": "code",
   "execution_count": 15,
   "id": "64d6225c",
   "metadata": {},
   "outputs": [
    {
     "data": {
      "text/plain": [
       "(2035,)"
      ]
     },
     "execution_count": 15,
     "metadata": {},
     "output_type": "execute_result"
    }
   ],
   "source": [
    "df1.shape"
   ]
  },
  {
   "cell_type": "code",
   "execution_count": 17,
   "id": "ca3ec34b",
   "metadata": {},
   "outputs": [
    {
     "data": {
      "text/plain": [
       "Text(0.5, 1.0, 'Closing graph of stock market')"
      ]
     },
     "execution_count": 17,
     "metadata": {},
     "output_type": "execute_result"
    },
    {
     "data": {
      "image/png": "[encoded data removed]",
      "text/plain": [
       "<Figure size 432x288 with 1 Axes>"
      ]
     },
     "metadata": {
      "needs_background": "light"
     },
     "output_type": "display_data"
    }
   ],
   "source": [
    "plt.plot(df1)\n",
    "plt.title('Closing graph of stock market')"
   ]
  },
  {
   "cell_type": "code",
   "execution_count": 18,
   "id": "8044d48c",
   "metadata": {},
   "outputs": [
    {
     "data": {
      "text/plain": [
       "80.95"
      ]
     },
     "execution_count": 18,
     "metadata": {},
     "output_type": "execute_result"
    }
   ],
   "source": [
    "df1.min()"
   ]
  },
  {
   "cell_type": "code",
   "execution_count": 19,
   "id": "e5543108",
   "metadata": {},
   "outputs": [
    {
     "data": {
      "text/plain": [
       "325.75"
      ]
     },
     "execution_count": 19,
     "metadata": {},
     "output_type": "execute_result"
    }
   ],
   "source": [
    "df1.max()"
   ]
  },
  {
   "cell_type": "code",
   "execution_count": 21,
   "id": "7ebb97d6",
   "metadata": {},
   "outputs": [
    {
     "data": {
      "text/plain": [
       "count    2035.00000\n",
       "mean      149.45027\n",
       "std        48.71204\n",
       "min        80.95000\n",
       "25%       120.05000\n",
       "50%       141.25000\n",
       "75%       156.90000\n",
       "max       325.75000\n",
       "Name: Close, dtype: float64"
      ]
     },
     "execution_count": 21,
     "metadata": {},
     "output_type": "execute_result"
    }
   ],
   "source": [
    "df1.describe()"
   ]
  },
  {
   "cell_type": "code",
   "execution_count": 22,
   "id": "ae15b834",
   "metadata": {},
   "outputs": [],
   "source": [
    "#using min max scaler to put the values in a suitable range"
   ]
  },
  {
   "cell_type": "code",
   "execution_count": 23,
   "id": "58810a90",
   "metadata": {},
   "outputs": [],
   "source": [
    "from sklearn.preprocessing import MinMaxScaler"
   ]
  },
  {
   "cell_type": "code",
   "execution_count": 24,
   "id": "28dfbb89",
   "metadata": {},
   "outputs": [],
   "source": [
    "ms = MinMaxScaler()"
   ]
  },
  {
   "cell_type": "code",
   "execution_count": 44,
   "id": "8f2ca100",
   "metadata": {},
   "outputs": [],
   "source": [
    "train_size = len(df11)*0.80"
   ]
  },
  {
   "cell_type": "code",
   "execution_count": 45,
   "id": "33b8a5b0",
   "metadata": {},
   "outputs": [
    {
     "data": {
      "text/plain": [
       "2035"
      ]
     },
     "execution_count": 45,
     "metadata": {},
     "output_type": "execute_result"
    }
   ],
   "source": [
    "len(df11)"
   ]
  },
  {
   "cell_type": "code",
   "execution_count": 46,
   "id": "4b9c0f0d",
   "metadata": {},
   "outputs": [
    {
     "data": {
      "text/plain": [
       "1628.0"
      ]
     },
     "execution_count": 46,
     "metadata": {},
     "output_type": "execute_result"
    }
   ],
   "source": [
    "train_size"
   ]
  },
  {
   "cell_type": "code",
   "execution_count": 47,
   "id": "803b82d4",
   "metadata": {},
   "outputs": [],
   "source": [
    "train_size = int(train_size)"
   ]
  },
  {
   "cell_type": "code",
   "execution_count": 48,
   "id": "075cde66",
   "metadata": {},
   "outputs": [
    {
     "data": {
      "text/plain": [
       "1628"
      ]
     },
     "execution_count": 48,
     "metadata": {},
     "output_type": "execute_result"
    }
   ],
   "source": [
    "train_size"
   ]
  },
  {
   "cell_type": "code",
   "execution_count": 49,
   "id": "c319ba86",
   "metadata": {},
   "outputs": [],
   "source": [
    "test_size = len(df11) - train_size"
   ]
  },
  {
   "cell_type": "code",
   "execution_count": 50,
   "id": "80c6c740",
   "metadata": {},
   "outputs": [
    {
     "data": {
      "text/plain": [
       "int"
      ]
     },
     "execution_count": 50,
     "metadata": {},
     "output_type": "execute_result"
    }
   ],
   "source": [
    "type(test_size)"
   ]
  },
  {
   "cell_type": "code",
   "execution_count": 51,
   "id": "98d90b2e",
   "metadata": {},
   "outputs": [],
   "source": [
    "df11 = ms.fit_transform(np.array(df1).reshape(-1,1))"
   ]
  },
  {
   "cell_type": "code",
   "execution_count": 55,
   "id": "e4d07241",
   "metadata": {},
   "outputs": [],
   "source": [
    "train_data = df11[0:train_size,:]\n",
    "test_data = df11[train_size:len(df11),:]"
   ]
  },
  {
   "cell_type": "code",
   "execution_count": 56,
   "id": "2e3a6eef",
   "metadata": {},
   "outputs": [
    {
     "data": {
      "text/plain": [
       "array([[0.62418301],\n",
       "       [0.62214052],\n",
       "       [0.62622549],\n",
       "       ...,\n",
       "       [0.1621732 ],\n",
       "       [0.16319444],\n",
       "       [0.16584967]])"
      ]
     },
     "execution_count": 56,
     "metadata": {},
     "output_type": "execute_result"
    }
   ],
   "source": [
    "df11"
   ]
  },
  {
   "cell_type": "code",
   "execution_count": 57,
   "id": "9c5f07fd",
   "metadata": {},
   "outputs": [],
   "source": [
    "from keras.models import Sequential\n",
    "from keras.layers import Dense\n",
    "from keras.layers import LSTM\n",
    "from keras.layers import Dropout"
   ]
  },
  {
   "cell_type": "code",
   "execution_count": 58,
   "id": "d649605d",
   "metadata": {},
   "outputs": [],
   "source": [
    "\n",
    "def select_data(df11, time_step=1):\n",
    "    dataX, dataY = [], []\n",
    "    for i in range(len(df11)-time_step-1):\n",
    "        dataX.append(df11[i:(i+time_step), 0])\n",
    "        dataY.append(df11[i + time_step, 0])\n",
    "    return np.array(dataX), np.array(dataY)"
   ]
  },
  {
   "cell_type": "code",
   "execution_count": 59,
   "id": "35c94d57",
   "metadata": {},
   "outputs": [],
   "source": [
    "timestep = 200\n",
    "\n",
    "X_train, y_train = select_data(train_data, timestep)\n",
    "X_test, y_test = select_data(test_data, timestep)"
   ]
  },
  {
   "cell_type": "code",
   "execution_count": 60,
   "id": "ebe7331b",
   "metadata": {},
   "outputs": [
    {
     "name": "stdout",
     "output_type": "stream",
     "text": [
      "Model: \"sequential\"\n",
      "_________________________________________________________________\n",
      " Layer (type)                Output Shape              Param #   \n",
      "=================================================================\n",
      " lstm (LSTM)                 (None, 200, 50)           10400     \n",
      "                                                                 \n",
      " dropout (Dropout)           (None, 200, 50)           0         \n",
      "                                                                 \n",
      " lstm_1 (LSTM)               (None, 200, 50)           20200     \n",
      "                                                                 \n",
      " dropout_1 (Dropout)         (None, 200, 50)           0         \n",
      "                                                                 \n",
      " lstm_2 (LSTM)               (None, 50)                20200     \n",
      "                                                                 \n",
      " dropout_2 (Dropout)         (None, 50)                0         \n",
      "                                                                 \n",
      " dense (Dense)               (None, 1)                 51        \n",
      "                                                                 \n",
      "=================================================================\n",
      "Total params: 50,851\n",
      "Trainable params: 50,851\n",
      "Non-trainable params: 0\n",
      "_________________________________________________________________\n",
      "Epoch 1/50\n",
      "45/45 [==============================] - 33s 393ms/step - loss: 0.0074 - val_loss: 6.6464e-04\n",
      "Epoch 2/50\n",
      "45/45 [==============================] - 14s 306ms/step - loss: 0.0020 - val_loss: 6.8142e-04\n",
      "Epoch 3/50\n",
      "45/45 [==============================] - 14s 306ms/step - loss: 0.0018 - val_loss: 6.4499e-04\n",
      "Epoch 4/50\n",
      "45/45 [==============================] - 14s 318ms/step - loss: 0.0015 - val_loss: 4.5836e-04\n",
      "Epoch 5/50\n",
      "45/45 [==============================] - 14s 307ms/step - loss: 0.0015 - val_loss: 7.0785e-04\n",
      "Epoch 6/50\n",
      "45/45 [==============================] - 13s 286ms/step - loss: 0.0014 - val_loss: 4.3846e-04\n",
      "Epoch 7/50\n",
      "45/45 [==============================] - 14s 305ms/step - loss: 0.0015 - val_loss: 0.0013\n",
      "Epoch 8/50\n",
      "45/45 [==============================] - 13s 283ms/step - loss: 0.0015 - val_loss: 4.0949e-04\n",
      "Epoch 9/50\n",
      "45/45 [==============================] - 14s 312ms/step - loss: 0.0013 - val_loss: 3.6261e-04\n",
      "Epoch 10/50\n",
      "45/45 [==============================] - 14s 316ms/step - loss: 0.0014 - val_loss: 5.5873e-04\n",
      "Epoch 11/50\n",
      "45/45 [==============================] - 14s 317ms/step - loss: 0.0012 - val_loss: 3.4622e-04\n",
      "Epoch 12/50\n",
      "45/45 [==============================] - 13s 294ms/step - loss: 0.0013 - val_loss: 3.3429e-04\n",
      "Epoch 13/50\n",
      "45/45 [==============================] - 13s 277ms/step - loss: 0.0012 - val_loss: 4.2138e-04\n",
      "Epoch 14/50\n",
      "45/45 [==============================] - 13s 280ms/step - loss: 0.0013 - val_loss: 3.2446e-04\n",
      "Epoch 15/50\n",
      "45/45 [==============================] - 14s 305ms/step - loss: 0.0011 - val_loss: 3.4697e-04\n",
      "Epoch 16/50\n",
      "45/45 [==============================] - 13s 286ms/step - loss: 0.0011 - val_loss: 3.0662e-04\n",
      "Epoch 17/50\n",
      "45/45 [==============================] - 14s 311ms/step - loss: 9.3111e-04 - val_loss: 3.4329e-04\n",
      "Epoch 18/50\n",
      "45/45 [==============================] - 13s 283ms/step - loss: 0.0010 - val_loss: 4.3183e-04\n",
      "Epoch 19/50\n",
      "45/45 [==============================] - 13s 278ms/step - loss: 9.8861e-04 - val_loss: 8.1097e-04\n",
      "Epoch 20/50\n",
      "45/45 [==============================] - 13s 287ms/step - loss: 0.0011 - val_loss: 4.0745e-04\n",
      "Epoch 21/50\n",
      "45/45 [==============================] - 14s 313ms/step - loss: 9.2678e-04 - val_loss: 2.8511e-04\n",
      "Epoch 22/50\n",
      "45/45 [==============================] - 14s 316ms/step - loss: 7.7686e-04 - val_loss: 2.7636e-04\n",
      "Epoch 23/50\n",
      "45/45 [==============================] - 14s 313ms/step - loss: 9.8317e-04 - val_loss: 3.8068e-04\n",
      "Epoch 24/50\n",
      "45/45 [==============================] - 13s 277ms/step - loss: 8.0211e-04 - val_loss: 2.6739e-04\n",
      "Epoch 25/50\n",
      "45/45 [==============================] - 13s 280ms/step - loss: 9.1081e-04 - val_loss: 2.9870e-04\n",
      "Epoch 26/50\n",
      "45/45 [==============================] - 16s 366ms/step - loss: 8.7640e-04 - val_loss: 3.0689e-04\n",
      "Epoch 27/50\n",
      "45/45 [==============================] - 14s 315ms/step - loss: 8.2540e-04 - val_loss: 2.9224e-04\n",
      "Epoch 28/50\n",
      "45/45 [==============================] - 14s 302ms/step - loss: 7.7179e-04 - val_loss: 2.5415e-04\n",
      "Epoch 29/50\n",
      "45/45 [==============================] - 14s 317ms/step - loss: 7.4498e-04 - val_loss: 2.3986e-04\n",
      "Epoch 30/50\n",
      "45/45 [==============================] - 14s 321ms/step - loss: 6.6873e-04 - val_loss: 2.6142e-04\n",
      "Epoch 31/50\n",
      "45/45 [==============================] - 14s 324ms/step - loss: 6.8812e-04 - val_loss: 2.4558e-04\n",
      "Epoch 32/50\n",
      "45/45 [==============================] - 13s 300ms/step - loss: 6.2599e-04 - val_loss: 2.5211e-04\n",
      "Epoch 33/50\n",
      "45/45 [==============================] - 13s 285ms/step - loss: 6.3437e-04 - val_loss: 2.3043e-04\n",
      "Epoch 34/50\n",
      "45/45 [==============================] - 13s 290ms/step - loss: 6.6869e-04 - val_loss: 2.2281e-04\n",
      "Epoch 35/50\n",
      "45/45 [==============================] - 13s 298ms/step - loss: 5.9479e-04 - val_loss: 2.1274e-04\n",
      "Epoch 36/50\n",
      "45/45 [==============================] - 14s 321ms/step - loss: 6.4992e-04 - val_loss: 2.2538e-04\n",
      "Epoch 37/50\n",
      "45/45 [==============================] - 14s 322ms/step - loss: 6.5766e-04 - val_loss: 2.7483e-04\n",
      "Epoch 38/50\n",
      "45/45 [==============================] - 14s 321ms/step - loss: 6.0535e-04 - val_loss: 2.1644e-04\n",
      "Epoch 39/50\n",
      "45/45 [==============================] - 13s 289ms/step - loss: 6.0622e-04 - val_loss: 2.1098e-04\n",
      "Epoch 40/50\n",
      "45/45 [==============================] - 12s 272ms/step - loss: 5.5612e-04 - val_loss: 2.5762e-04\n",
      "Epoch 41/50\n",
      "45/45 [==============================] - 13s 277ms/step - loss: 5.9386e-04 - val_loss: 2.5346e-04\n",
      "Epoch 42/50\n",
      "45/45 [==============================] - 14s 312ms/step - loss: 5.9196e-04 - val_loss: 1.9115e-04\n",
      "Epoch 43/50\n",
      "45/45 [==============================] - 14s 312ms/step - loss: 6.3035e-04 - val_loss: 4.8460e-04\n",
      "Epoch 44/50\n",
      "45/45 [==============================] - 14s 311ms/step - loss: 6.4105e-04 - val_loss: 2.0655e-04\n",
      "Epoch 45/50\n",
      "45/45 [==============================] - 12s 276ms/step - loss: 4.7262e-04 - val_loss: 1.7610e-04\n",
      "Epoch 46/50\n",
      "45/45 [==============================] - 12s 272ms/step - loss: 5.1239e-04 - val_loss: 3.0731e-04\n",
      "Epoch 47/50\n",
      "45/45 [==============================] - 13s 290ms/step - loss: 4.9552e-04 - val_loss: 1.9552e-04\n",
      "Epoch 48/50\n",
      "45/45 [==============================] - 14s 310ms/step - loss: 5.0263e-04 - val_loss: 1.8943e-04\n",
      "Epoch 49/50\n",
      "45/45 [==============================] - 14s 304ms/step - loss: 5.0194e-04 - val_loss: 1.7618e-04\n",
      "Epoch 50/50\n",
      "45/45 [==============================] - 13s 284ms/step - loss: 4.4729e-04 - val_loss: 3.3349e-04\n"
     ]
    },
    {
     "data": {
      "text/plain": [
       "<keras.callbacks.History at 0x29f8758fd00>"
      ]
     },
     "execution_count": 60,
     "metadata": {},
     "output_type": "execute_result"
    }
   ],
   "source": [
    "model=Sequential()\n",
    "model.add(LSTM(50,return_sequences=True,input_shape=(timestep,1)))\n",
    "model.add(Dropout(0.2))\n",
    "\n",
    "model.add(LSTM(50,return_sequences=True))\n",
    "model.add(Dropout(0.2))\n",
    "\n",
    "model.add(LSTM(50))\n",
    "model.add(Dropout(0.2))\n",
    "\n",
    "model.add(Dense(1))\n",
    "model.compile(loss='mean_squared_error',optimizer='adam')\n",
    "model.summary()\n",
    "model.fit(X_train, y_train, validation_data = (X_test, y_test),epochs = 50,batch_size = 32, verbose=1)"
   ]
  },
  {
   "cell_type": "code",
   "execution_count": 62,
   "id": "4d7e1ef5",
   "metadata": {},
   "outputs": [
    {
     "name": "stdout",
     "output_type": "stream",
     "text": [
      "WARNING:tensorflow:Model was constructed with shape (None, 200, 1) for input KerasTensor(type_spec=TensorSpec(shape=(None, 200, 1), dtype=tf.float32, name='lstm_input'), name='lstm_input', description=\"created by layer 'lstm_input'\"), but it was called on an input with incompatible shape (None, 1, 1).\n",
      "51/51 [==============================] - 3s 3ms/step\n",
      "13/13 [==============================] - 0s 3ms/step\n"
     ]
    }
   ],
   "source": [
    "train_predict = model.predict(train_data)\n",
    "test_predict = model.predict(test_data)\n"
   ]
  },
  {
   "cell_type": "code",
   "execution_count": 64,
   "id": "9ade874d",
   "metadata": {},
   "outputs": [],
   "source": [
    "train_predict = ms.inverse_transform(train_predict)\n",
    "test_predict = ms.inverse_transform(test_predict)"
   ]
  },
  {
   "cell_type": "code",
   "execution_count": 65,
   "id": "1bfcf197",
   "metadata": {},
   "outputs": [
    {
     "data": {
      "text/plain": [
       "array([[146.84773],\n",
       "       [146.73898],\n",
       "       [146.95656],\n",
       "       ...,\n",
       "       [123.43951],\n",
       "       [123.02659],\n",
       "       [123.42152]], dtype=float32)"
      ]
     },
     "execution_count": 65,
     "metadata": {},
     "output_type": "execute_result"
    }
   ],
   "source": [
    "train_predict"
   ]
  },
  {
   "cell_type": "code",
   "execution_count": 67,
   "id": "62ac5552",
   "metadata": {},
   "outputs": [],
   "source": [
    "import math"
   ]
  },
  {
   "cell_type": "code",
   "execution_count": 71,
   "id": "e4c8735d",
   "metadata": {},
   "outputs": [
    {
     "ename": "IndexError",
     "evalue": "too many indices for array: array is 1-dimensional, but 2 were indexed",
     "output_type": "error",
     "traceback": [
      "\u001b[1;31m---------------------------------------------------------------------------\u001b[0m",
      "\u001b[1;31mIndexError\u001b[0m                                Traceback (most recent call last)",
      "Input \u001b[1;32mIn [71]\u001b[0m, in \u001b[0;36m<cell line: 4>\u001b[1;34m()\u001b[0m\n\u001b[0;32m      1\u001b[0m t \u001b[38;5;241m=\u001b[39m timestep\n\u001b[0;32m      3\u001b[0m p1 \u001b[38;5;241m=\u001b[39m np\u001b[38;5;241m.\u001b[39mempty_like(df1)       \u001b[38;5;66;03m#train-pred-plot\u001b[39;00m\n\u001b[1;32m----> 4\u001b[0m p1[:,:] \u001b[38;5;241m=\u001b[39mnp\u001b[38;5;241m.\u001b[39mnan\n\u001b[0;32m      5\u001b[0m p1[t : \u001b[38;5;28mlen\u001b[39m(train_predict)\u001b[38;5;241m+\u001b[39mt , : ] \u001b[38;5;241m=\u001b[39m  train_predict\n\u001b[0;32m      6\u001b[0m p2 \u001b[38;5;241m=\u001b[39m np\u001b[38;5;241m.\u001b[39mempty_like(df1)       \u001b[38;5;66;03m#test-pred-plot\u001b[39;00m\n",
      "\u001b[1;31mIndexError\u001b[0m: too many indices for array: array is 1-dimensional, but 2 were indexed"
     ]
    }
   ],
   "source": [
    "t = timestep\n",
    "\n",
    "p1 = np.empty_like(df1)       #train-pred-plot\n",
    "p1[:,:] =np.nan\n",
    "p1[t : len(train_predict)+t , : ] =  train_predict\n",
    "p2 = np.empty_like(df1)       #test-pred-plot\n",
    "p2[:,:] =np.nan\n",
    "p2[ len(train_predict)+ t*2 + 1 : len(df1) -1 , : ] =  test_predict"
   ]
  },
  {
   "cell_type": "code",
   "execution_count": null,
   "id": "ec31e090",
   "metadata": {},
   "outputs": [],
   "source": []
  }
 ],
 "metadata": {
  "kernelspec": {
   "display_name": "Python 3 (ipykernel)",
   "language": "python",
   "name": "python3"
  },
  "language_info": {
   "codemirror_mode": {
    "name": "ipython",
    "version": 3
   },
   "file_extension": ".py",
   "mimetype": "text/x-python",
   "name": "python",
   "nbconvert_exporter": "python",
   "pygments_lexer": "ipython3",
   "version": "3.9.12"
  }
 },
 "nbformat": 4,
 "nbformat_minor": 5
}
